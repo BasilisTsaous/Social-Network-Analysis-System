{
 "cells": [
  {
   "cell_type": "code",
   "execution_count": 1,
   "metadata": {},
   "outputs": [],
   "source": [
    "import pandas as pd\n",
    "import numpy as np\n",
    "#import matplotlib.pyplot as plt\n",
    "from sklearn.model_selection import train_test_split\n",
    "from sklearn.linear_model import LinearRegression\n",
    "#from sklearn import linear_model\n",
    "from sklearn.preprocessing import StandardScaler\n",
    "#from sklearn.metrics import r2_score\n",
    "\n",
    "df = pd.read_csv(\"FINAL_TRUST.csv\")\n",
    "\n",
    "#x = df[['total_responses_weight']].values\n",
    "x = df[['comments', 'comment_likes', 'LIKE', 'LOVE', 'SAD', 'ANGRY', 'WOW', 'HAHA', 'THANKFUL']].values\n",
    "y = df['TRUST'].values\n",
    "\n",
    "#Split the dataset in training/test set\n",
    "x_train,x_test,y_train,y_test = train_test_split(x,y,test_size=0.3, random_state=0)\n",
    "\n",
    "scaler = StandardScaler()\n",
    "\n",
    "#Train the model on the training set\n",
    "normalized_x_train = pd.DataFrame(scaler.fit_transform(x_train))\n",
    "reg = LinearRegression()\n",
    "reg.fit(normalized_x_train, y_train)\n",
    "\n",
    "#Predict the test set results\n",
    "normalized_x_test = pd.DataFrame(scaler.transform(x_test))\n",
    "y_test_pred = reg.predict(normalized_x_test)\n",
    "#print(y_test_pred)"
   ]
  },
  {
   "cell_type": "code",
   "execution_count": 2,
   "metadata": {},
   "outputs": [
    {
     "name": "stdout",
     "output_type": "stream",
     "text": [
      "[3.15179968]\n"
     ]
    }
   ],
   "source": [
    "#t = reg.predict([[0.75]])\n",
    "t = reg.predict([[3.0,2.0,0,0,0,0,0,0,0]])\n",
    "print(t)"
   ]
  },
  {
   "cell_type": "code",
   "execution_count": 3,
   "metadata": {},
   "outputs": [
    {
     "data": {
      "text/plain": [
       "0.9840607168673241"
      ]
     },
     "execution_count": 3,
     "metadata": {},
     "output_type": "execute_result"
    }
   ],
   "source": [
    "#Evaluate my model\n",
    "from sklearn.metrics import r2_score\n",
    "r2_score(y_test,y_test_pred)"
   ]
  },
  {
   "cell_type": "code",
   "execution_count": 4,
   "metadata": {},
   "outputs": [
    {
     "data": {
      "image/png": "[encoded data removed]",
      "text/plain": [
       "<Figure size 432x288 with 1 Axes>"
      ]
     },
     "metadata": {
      "needs_background": "light"
     },
     "output_type": "display_data"
    }
   ],
   "source": [
    "#Plot the results\n",
    "import matplotlib.pyplot as plt\n",
    "from scipy import stats\n",
    "#plt.figure(figsize=(15,10))\n",
    "slope, intercept, r, p, std_err = stats.linregress(y_test, y_test_pred)\n",
    "\n",
    "def myfunc(y_test):\n",
    "    return slope * y_test + intercept\n",
    "\n",
    "mymodel = list(map(myfunc, y_test))\n",
    "\n",
    "plt.scatter(y_test,y_test_pred)\n",
    "plt.xlabel('Actual')\n",
    "plt.ylabel('Predicted')\n",
    "plt.title('Actual vs Predicted')\n",
    "plt.plot(y_test, mymodel)\n",
    "plt.show()"
   ]
  },
  {
   "cell_type": "code",
   "execution_count": 5,
   "metadata": {},
   "outputs": [
    {
     "data": {
      "text/html": [
       "<div>\n",
       "<style scoped>\n",
       "    .dataframe tbody tr th:only-of-type {\n",
       "        vertical-align: middle;\n",
       "    }\n",
       "\n",
       "    .dataframe tbody tr th {\n",
       "        vertical-align: top;\n",
       "    }\n",
       "\n",
       "    .dataframe thead th {\n",
       "        text-align: right;\n",
       "    }\n",
       "</style>\n",
       "<table border=\"1\" class=\"dataframe\">\n",
       "  <thead>\n",
       "    <tr style=\"text-align: right;\">\n",
       "      <th></th>\n",
       "      <th>Actual Value</th>\n",
       "      <th>Predicted Value</th>\n",
       "      <th>Difference</th>\n",
       "    </tr>\n",
       "  </thead>\n",
       "  <tbody>\n",
       "    <tr>\n",
       "      <th>0</th>\n",
       "      <td>0.3333</td>\n",
       "      <td>0.227636</td>\n",
       "      <td>0.105664</td>\n",
       "    </tr>\n",
       "    <tr>\n",
       "      <th>1</th>\n",
       "      <td>0.5000</td>\n",
       "      <td>0.564835</td>\n",
       "      <td>-0.064835</td>\n",
       "    </tr>\n",
       "    <tr>\n",
       "      <th>2</th>\n",
       "      <td>0.1667</td>\n",
       "      <td>0.130972</td>\n",
       "      <td>0.035728</td>\n",
       "    </tr>\n",
       "    <tr>\n",
       "      <th>3</th>\n",
       "      <td>0.1667</td>\n",
       "      <td>0.161727</td>\n",
       "      <td>0.004973</td>\n",
       "    </tr>\n",
       "    <tr>\n",
       "      <th>4</th>\n",
       "      <td>0.5000</td>\n",
       "      <td>0.564835</td>\n",
       "      <td>-0.064835</td>\n",
       "    </tr>\n",
       "    <tr>\n",
       "      <th>5</th>\n",
       "      <td>0.1667</td>\n",
       "      <td>0.161727</td>\n",
       "      <td>0.004973</td>\n",
       "    </tr>\n",
       "    <tr>\n",
       "      <th>6</th>\n",
       "      <td>0.1667</td>\n",
       "      <td>0.161727</td>\n",
       "      <td>0.004973</td>\n",
       "    </tr>\n",
       "    <tr>\n",
       "      <th>7</th>\n",
       "      <td>0.1667</td>\n",
       "      <td>0.161727</td>\n",
       "      <td>0.004973</td>\n",
       "    </tr>\n",
       "    <tr>\n",
       "      <th>8</th>\n",
       "      <td>0.5000</td>\n",
       "      <td>0.564835</td>\n",
       "      <td>-0.064835</td>\n",
       "    </tr>\n",
       "    <tr>\n",
       "      <th>9</th>\n",
       "      <td>0.3333</td>\n",
       "      <td>0.166125</td>\n",
       "      <td>0.167175</td>\n",
       "    </tr>\n",
       "    <tr>\n",
       "      <th>10</th>\n",
       "      <td>0.1667</td>\n",
       "      <td>0.161727</td>\n",
       "      <td>0.004973</td>\n",
       "    </tr>\n",
       "    <tr>\n",
       "      <th>11</th>\n",
       "      <td>0.1667</td>\n",
       "      <td>0.161727</td>\n",
       "      <td>0.004973</td>\n",
       "    </tr>\n",
       "    <tr>\n",
       "      <th>12</th>\n",
       "      <td>0.1667</td>\n",
       "      <td>0.161727</td>\n",
       "      <td>0.004973</td>\n",
       "    </tr>\n",
       "    <tr>\n",
       "      <th>13</th>\n",
       "      <td>0.1667</td>\n",
       "      <td>0.130972</td>\n",
       "      <td>0.035728</td>\n",
       "    </tr>\n",
       "    <tr>\n",
       "      <th>14</th>\n",
       "      <td>0.5000</td>\n",
       "      <td>0.564835</td>\n",
       "      <td>-0.064835</td>\n",
       "    </tr>\n",
       "    <tr>\n",
       "      <th>15</th>\n",
       "      <td>1.0000</td>\n",
       "      <td>1.033851</td>\n",
       "      <td>-0.033851</td>\n",
       "    </tr>\n",
       "    <tr>\n",
       "      <th>16</th>\n",
       "      <td>0.3333</td>\n",
       "      <td>0.166125</td>\n",
       "      <td>0.167175</td>\n",
       "    </tr>\n",
       "    <tr>\n",
       "      <th>17</th>\n",
       "      <td>0.1667</td>\n",
       "      <td>0.161727</td>\n",
       "      <td>0.004973</td>\n",
       "    </tr>\n",
       "    <tr>\n",
       "      <th>18</th>\n",
       "      <td>0.1667</td>\n",
       "      <td>0.161727</td>\n",
       "      <td>0.004973</td>\n",
       "    </tr>\n",
       "    <tr>\n",
       "      <th>19</th>\n",
       "      <td>0.1667</td>\n",
       "      <td>0.161727</td>\n",
       "      <td>0.004973</td>\n",
       "    </tr>\n",
       "  </tbody>\n",
       "</table>\n",
       "</div>"
      ],
      "text/plain": [
       "    Actual Value  Predicted Value  Difference\n",
       "0         0.3333         0.227636    0.105664\n",
       "1         0.5000         0.564835   -0.064835\n",
       "2         0.1667         0.130972    0.035728\n",
       "3         0.1667         0.161727    0.004973\n",
       "4         0.5000         0.564835   -0.064835\n",
       "5         0.1667         0.161727    0.004973\n",
       "6         0.1667         0.161727    0.004973\n",
       "7         0.1667         0.161727    0.004973\n",
       "8         0.5000         0.564835   -0.064835\n",
       "9         0.3333         0.166125    0.167175\n",
       "10        0.1667         0.161727    0.004973\n",
       "11        0.1667         0.161727    0.004973\n",
       "12        0.1667         0.161727    0.004973\n",
       "13        0.1667         0.130972    0.035728\n",
       "14        0.5000         0.564835   -0.064835\n",
       "15        1.0000         1.033851   -0.033851\n",
       "16        0.3333         0.166125    0.167175\n",
       "17        0.1667         0.161727    0.004973\n",
       "18        0.1667         0.161727    0.004973\n",
       "19        0.1667         0.161727    0.004973"
      ]
     },
     "execution_count": 5,
     "metadata": {},
     "output_type": "execute_result"
    }
   ],
   "source": [
    "pred_y_df=pd.DataFrame({'Actual Value': y_test, 'Predicted Value':y_test_pred, 'Difference': y_test-y_test_pred })\n",
    "pred_y_df[0:20]"
   ]
  }
 ],
 "metadata": {
  "kernelspec": {
   "display_name": "Python 3",
   "language": "python",
   "name": "python3"
  },
  "language_info": {
   "codemirror_mode": {
    "name": "ipython",
    "version": 3
   },
   "file_extension": ".py",
   "mimetype": "text/x-python",
   "name": "python",
   "nbconvert_exporter": "python",
   "pygments_lexer": "ipython3",
   "version": "3.8.5"
  }
 },
 "nbformat": 4,
 "nbformat_minor": 4
}
