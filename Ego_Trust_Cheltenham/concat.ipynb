{
 "cells": [
  {
   "cell_type": "code",
   "execution_count": 1,
   "metadata": {},
   "outputs": [
    {
     "name": "stdout",
     "output_type": "stream",
     "text": [
      "13279\n",
      "23006\n",
      "13185\n"
     ]
    }
   ],
   "source": [
    "import pandas as pd\n",
    "import csv\n",
    "\n",
    "df1 = pd.read_csv('user_weight_comments.csv')\n",
    "df2 = pd.read_csv('f_weights.csv')\n",
    "df3 = pd.read_csv('user_weight_comment_likes.csv')\n",
    "\n",
    "l1 = len(df1)\n",
    "l2 = len(df2)\n",
    "l3 = len(df3)\n",
    "\n",
    "print(l1)\n",
    "print(l2)\n",
    "print(l3)"
   ]
  },
  {
   "cell_type": "code",
   "execution_count": 2,
   "metadata": {},
   "outputs": [],
   "source": [
    "#result = pd.concat([list of DataFrames], axis=0, join='outer', ignore_index=False)\n",
    "result = pd.concat([df1,df2,df3])\n",
    "result.fillna(0,inplace=True, downcast='infer')\n",
    "result.to_csv('EGO_FRIEND.csv',index=False)"
   ]
  },
  {
   "cell_type": "code",
   "execution_count": 3,
   "metadata": {},
   "outputs": [],
   "source": [
    "#result = pd.concat([list of DataFrames], axis=0, join='outer', ignore_index=False)"
   ]
  },
  {
   "cell_type": "code",
   "execution_count": 4,
   "metadata": {},
   "outputs": [],
   "source": [
    "df = pd.read_csv('EGO_FRIEND.csv')\n",
    "\n",
    "df.fillna(0,inplace=True, downcast='infer')\n",
    "#df.to_csv('ex10.csv')\n",
    "\n"
   ]
  }
 ],
 "metadata": {
  "kernelspec": {
   "display_name": "Python 3",
   "language": "python",
   "name": "python3"
  },
  "language_info": {
   "codemirror_mode": {
    "name": "ipython",
    "version": 3
   },
   "file_extension": ".py",
   "mimetype": "text/x-python",
   "name": "python",
   "nbconvert_exporter": "python",
   "pygments_lexer": "ipython3",
   "version": "3.8.5"
  }
 },
 "nbformat": 4,
 "nbformat_minor": 4
}
