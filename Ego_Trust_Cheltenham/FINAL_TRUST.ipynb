{
 "cells": [
  {
   "cell_type": "code",
   "execution_count": 1,
   "metadata": {},
   "outputs": [],
   "source": [
    "import pandas as pd\n",
    "import numpy as np\n",
    "\n",
    "df = pd.read_csv('FINAL_TRUST.csv')\n",
    "l = len(df)\n",
    "#print(l)"
   ]
  },
  {
   "cell_type": "code",
   "execution_count": 2,
   "metadata": {},
   "outputs": [],
   "source": [
    "df1 = df.assign(**{'comments': '', 'comment_likes': '', 'LIKE': '', 'LOVE': '', 'SAD': '', 'ANGRY': '', 'WOW': '', 'HAHA': '', 'THANKFUL': ''})\n",
    "#df1.to_csv('ex1.csv',index=False)"
   ]
  },
  {
   "cell_type": "code",
   "execution_count": 3,
   "metadata": {},
   "outputs": [],
   "source": [
    "l1 = len(df1)\n",
    "#print(l1)\n",
    "\n",
    "df2 = pd.read_csv('user_weight_comments.csv')\n",
    "l2 = len(df2)\n",
    "#print(l2)"
   ]
  },
  {
   "cell_type": "code",
   "execution_count": 4,
   "metadata": {},
   "outputs": [],
   "source": [
    "for i in range(100):\n",
    "    for k in range(100):\n",
    "        if df1.user_id[i] == df2.user_id[k] and df1.friend_id[i] == df2.friend_id[k]:\n",
    "            df1.comments.replace('',df2.comment_id[k],inplace=True)\n",
    "\n",
    "#df1.to_csv('ex1.csv')          "
   ]
  },
  {
   "cell_type": "code",
   "execution_count": 5,
   "metadata": {},
   "outputs": [],
   "source": [
    "for i in range(l1):\n",
    "    for k in range(l2):\n",
    "        if df1.user_id[i] == df2.user_id[k] and df1.friend_id[i] == df2.friend_id[k]:\n",
    "            df1.comments[i] = df2.comment_id[k]\n",
    "\n",
    "#df1.to_csv('ex1.csv',index=False)    "
   ]
  },
  {
   "cell_type": "code",
   "execution_count": 6,
   "metadata": {},
   "outputs": [],
   "source": [
    "ndf1 = pd.read_csv('ex1.csv')\n",
    "nl1 = len(ndf1)\n",
    "#print(nl1)\n",
    "\n",
    "df3 = pd.read_csv('user_weight_comment_likes.csv')\n",
    "l3 = len(df3)\n",
    "#print(l3)\n",
    "\n",
    "for i in range(nl1):\n",
    "    for k in range(l3):\n",
    "        if ndf1.user_id[i] == df3.user_id[k] and ndf1.friend_id[i] == df3.friend_id[k]:\n",
    "            ndf1.comment_likes[i] = df3.post[k]\n",
    "            \n",
    "#ndf1.to_csv('ex2.csv',index=False)            "
   ]
  },
  {
   "cell_type": "code",
   "execution_count": null,
   "metadata": {},
   "outputs": [],
   "source": [
    "newdf1 = pd.read_csv('ex2.csv')\n",
    "newl1 = len(newdf1)\n",
    "#print(newl1)\n",
    "\n",
    "df4 = pd.read_csv('user_weight_likes.csv')\n",
    "l4 = len(df4)\n",
    "#print(l4)\n",
    "\n",
    "for i in range(newl1):\n",
    "    for k in range(l4):\n",
    "        if newdf1.user_id[i] == df4.user_id[k] and newdf1.friend_id[i] == df4.friend_id[k]:\n",
    "            if df4.response[k] == 'LIKE':\n",
    "                newdf1.LIKE[i] = df4.post[k]\n",
    "            if df4.response[k] == 'LOVE':\n",
    "                newdf1.LOVE[i] = df4.post[k] \n",
    "            if df4.response[k] == 'SAD':\n",
    "                newdf1.SAD[i] = df4.post[k]\n",
    "            if df4.response[k] == 'ANGRY':\n",
    "                newdf1.ANGRY[i] = df4.post[k]\n",
    "            if df4.response[k] == 'WOW':\n",
    "                newdf1.WOW[i] = df4.post[k]\n",
    "            if df4.response[k] == 'HAHA':\n",
    "                newdf1.HAHA[i] = df4.post[k]\n",
    "            if df4.response[k] == 'THANKFUL':\n",
    "                newdf1.THANKFUL[i] = df4.post[k]\n",
    "                \n",
    "newdf1.to_csv('ex3.csv',index=False)"
   ]
  },
  {
   "cell_type": "code",
   "execution_count": 11,
   "metadata": {},
   "outputs": [],
   "source": [
    "f = pd.read_csv('ex3.csv')\n",
    "\n",
    "F = f.fillna(0)\n",
    "F.to_csv('FINAL_TRUST.csv',index=False)"
   ]
  }
 ],
 "metadata": {
  "kernelspec": {
   "display_name": "Python 3",
   "language": "python",
   "name": "python3"
  },
  "language_info": {
   "codemirror_mode": {
    "name": "ipython",
    "version": 3
   },
   "file_extension": ".py",
   "mimetype": "text/x-python",
   "name": "python",
   "nbconvert_exporter": "python",
   "pygments_lexer": "ipython3",
   "version": "3.8.5"
  }
 },
 "nbformat": 4,
 "nbformat_minor": 4
}
