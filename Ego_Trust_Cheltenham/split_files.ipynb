{
 "cells": [
  {
   "cell_type": "code",
   "execution_count": 77,
   "metadata": {},
   "outputs": [],
   "source": [
    "import pandas as pd\n",
    "import numpy as np\n",
    "\n",
    "df = pd.read_csv('comment.csv')\n",
    "#df = pd.read_csv('comment_GROUP_1.csv', dtype={'rid':np.int64})\n",
    "\n",
    "n_df = df.loc[df['gid'] == 25160801076]\n",
    "\n",
    "n_df = n_df.drop(columns = ['gid'])\n",
    "n_df.reset_index(drop=True, inplace=True)\n",
    "#n_df\n",
    "#n_df.to_csv('comment_GROUP_1.csv')\n",
    "#df\n",
    "#df['rid'] = df['rid'].astype(pd.Int64Dtype())\n",
    "n_df['rid'] = n_df['rid'].fillna(0)\n",
    "n_df['rid'] = n_df['rid'].astype('Int64')\n",
    "#n_df['rid'] = n_df['rid'].replace('0',np.nan)\n",
    "#n_df['rid'] = n_df['rid'].astype(float)\n",
    "#n_df['rid'] = n_df['rid'].replace('0',np.nan)\n",
    "n_df\n",
    "n_df.to_csv('comment_GROUP_1.csv')\n"
   ]
  },
  {
   "cell_type": "code",
   "execution_count": null,
   "metadata": {},
   "outputs": [],
   "source": []
  }
 ],
 "metadata": {
  "kernelspec": {
   "display_name": "Python 3",
   "language": "python",
   "name": "python3"
  },
  "language_info": {
   "codemirror_mode": {
    "name": "ipython",
    "version": 3
   },
   "file_extension": ".py",
   "mimetype": "text/x-python",
   "name": "python",
   "nbconvert_exporter": "python",
   "pygments_lexer": "ipython3",
   "version": "3.8.5"
  }
 },
 "nbformat": 4,
 "nbformat_minor": 4
}
