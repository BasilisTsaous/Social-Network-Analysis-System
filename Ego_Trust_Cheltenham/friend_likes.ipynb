{
 "cells": [
  {
   "cell_type": "code",
   "execution_count": 1,
   "metadata": {},
   "outputs": [
    {
     "name": "stdout",
     "output_type": "stream",
     "text": [
      "54862\n"
     ]
    }
   ],
   "source": [
    "import pandas as pd\n",
    "\n",
    "f1 = pd.read_csv('new_posts1-3.csv')\n",
    "f3 = pd.read_csv('new_likes.csv')\n",
    "l1 = len(f1)\n",
    "l3 = len(f3)\n",
    "#print(l1,l3)\n",
    "\n",
    "user_id = []\n",
    "post = []\n",
    "user_name = []\n",
    "\n",
    "comment_id = []\n",
    "friend_id = []\n",
    "friend_name = []\n",
    "response = []\n",
    "\n",
    "c = 0 \n",
    "\n",
    "for i in range(l1):\n",
    "    for k in range(l3):\n",
    "        if f1.pid[i] == f3.pid[k] :\n",
    "            c = c + 1\n",
    "            \n",
    "            user_name.append(f1.name[i])\n",
    "            user_id.append(f1.id[i])\n",
    "            post.append(f1.pid[i])\n",
    "            \n",
    "            comment_id.append(f3.cid[k])\n",
    "            response.append(f3.response[k])\n",
    "            friend_id.append(f3.id[k])\n",
    "            friend_name.append(f3.name[k])\n",
    "            \n",
    "            \n",
    "print(c) \n",
    "\n",
    "dict = {'user_name' : user_name, 'user_id': user_id, 'post': post, 'comment_id': comment_id, 'response': response, 'friend_id': friend_id, 'friend_name': friend_name} \n",
    "df = pd.DataFrame(dict)\n",
    "df.to_csv('friend_likes.csv', index = False)\n",
    "\n",
    "#for i in range(c):\n",
    " #   print(user[i],post[i],comment_id[i],friend_id[i],rid[i],msg[i],sep=',')"
   ]
  },
  {
   "cell_type": "code",
   "execution_count": null,
   "metadata": {},
   "outputs": [],
   "source": []
  }
 ],
 "metadata": {
  "kernelspec": {
   "display_name": "Python 3",
   "language": "python",
   "name": "python3"
  },
  "language_info": {
   "codemirror_mode": {
    "name": "ipython",
    "version": 3
   },
   "file_extension": ".py",
   "mimetype": "text/x-python",
   "name": "python",
   "nbconvert_exporter": "python",
   "pygments_lexer": "ipython3",
   "version": "3.8.5"
  }
 },
 "nbformat": 4,
 "nbformat_minor": 4
}
