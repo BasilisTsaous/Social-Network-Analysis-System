{
 "cells": [
  {
   "cell_type": "code",
   "execution_count": 1,
   "metadata": {},
   "outputs": [],
   "source": [
    "import pandas as pd\n",
    "import csv\n",
    "\n",
    "df = pd.read_csv('EGO_FRIEND.csv')\n",
    "\n",
    "l = len(df)\n",
    "#print(l)"
   ]
  },
  {
   "cell_type": "code",
   "execution_count": 2,
   "metadata": {},
   "outputs": [
    {
     "name": "stderr",
     "output_type": "stream",
     "text": [
      "<ipython-input-2-53ed9edddce1>:17: SettingWithCopyWarning: \n",
      "A value is trying to be set on a copy of a slice from a DataFrame\n",
      "\n",
      "See the caveats in the documentation: https://pandas.pydata.org/pandas-docs/stable/user_guide/indexing.html#returning-a-view-versus-a-copy\n",
      "  df.user_id[k] = ''\n",
      "C:\\Users\\vasil\\anaconda3\\lib\\site-packages\\pandas\\core\\indexing.py:670: SettingWithCopyWarning: \n",
      "A value is trying to be set on a copy of a slice from a DataFrame\n",
      "\n",
      "See the caveats in the documentation: https://pandas.pydata.org/pandas-docs/stable/user_guide/indexing.html#returning-a-view-versus-a-copy\n",
      "  iloc._setitem_with_indexer(indexer, value)\n",
      "<ipython-input-2-53ed9edddce1>:18: SettingWithCopyWarning: \n",
      "A value is trying to be set on a copy of a slice from a DataFrame\n",
      "\n",
      "See the caveats in the documentation: https://pandas.pydata.org/pandas-docs/stable/user_guide/indexing.html#returning-a-view-versus-a-copy\n",
      "  df.friend_id[k] = ''\n"
     ]
    }
   ],
   "source": [
    "TOTAL = []\n",
    "USER = []\n",
    "FRIEND = []\n",
    "S = []\n",
    "\n",
    "w = 0.75 + 0.75 + 0.5 + 0.25 + 0.25 - 1 - 0.5 + 0.25 + 0.25\n",
    "\n",
    "count = 0\n",
    "for i in range(l):\n",
    "    same = 1\n",
    "    s = 0 \n",
    "    for k in range(i+1,l):\n",
    "        if df.user_id[i] == df.user_id[k] and df.friend_id[i] == df.friend_id[k] :\n",
    "            if df.user_id[i] != df.friend_id[i] and df.user_id[k] != df.friend_id[k] and i!=k :\n",
    "                same = same + 1\n",
    "                s = s + (df.weights[i] + df.weights[k])\n",
    "                df.user_id[k] = ''\n",
    "                df.friend_id[k] = ''\n",
    "            \n",
    "        else :\n",
    "            if df.user_id[i] != df.friend_id[i] and df.user_id[k] != df.friend_id[k] and i!=k :\n",
    "                s = df.weights[i]\n",
    "            \n",
    "    total = round(s / w , 4)\n",
    "    #count = count + 1\n",
    "    \n",
    "    if df.user_id[i] != '' and df.friend_id[i] != '' :\n",
    "        count = count + 1\n",
    "        S.append(s)\n",
    "        TOTAL.append(total)\n",
    "        USER.append(df.user_id[i])\n",
    "        FRIEND.append(df.friend_id[i])\n",
    "\n",
    "#print(count)    \n",
    "    \n",
    "with open('TRUST.csv', mode='w') as trust_file:\n",
    "    fieldnames = ['user_id', 'friend_id', 'total_responses_weight' ,'TRUST']\n",
    "    writer = csv.DictWriter(trust_file, fieldnames=fieldnames)\n",
    "\n",
    "    writer.writeheader()\n",
    "    for i in range(count):\n",
    "        writer.writerow({'user_id': USER[i], 'friend_id': FRIEND[i] , 'total_responses_weight': S[i] ,'TRUST': TOTAL[i] })\n",
    "        #print(USER[i],FRIEND[i],TOTAL[i],sep = ',')       \n",
    "    "
   ]
  },
  {
   "cell_type": "code",
   "execution_count": 28,
   "metadata": {},
   "outputs": [],
   "source": [
    "i = df1[(df1.user_id == df1.friend_id)].index\n",
    "\n",
    "df2 = df1.drop(i)\n",
    "df2.to_csv('FINAL_TRUST.csv',index = False)"
   ]
  },
  {
   "cell_type": "code",
   "execution_count": null,
   "metadata": {},
   "outputs": [],
   "source": []
  }
 ],
 "metadata": {
  "kernelspec": {
   "display_name": "Python 3",
   "language": "python",
   "name": "python3"
  },
  "language_info": {
   "codemirror_mode": {
    "name": "ipython",
    "version": 3
   },
   "file_extension": ".py",
   "mimetype": "text/x-python",
   "name": "python",
   "nbconvert_exporter": "python",
   "pygments_lexer": "ipython3",
   "version": "3.8.5"
  }
 },
 "nbformat": 4,
 "nbformat_minor": 4
}
