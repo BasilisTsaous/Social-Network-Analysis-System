{
 "cells": [
  {
   "cell_type": "code",
   "execution_count": 11,
   "metadata": {},
   "outputs": [],
   "source": [
    "import pandas as pd\n",
    "\n",
    "f1 = pd.read_csv('user_comments.csv')\n",
    "\n",
    "l1 = len(f1)\n",
    "#print(l1)\n",
    "\n",
    "W = []\n",
    "\n",
    "for i in range(l1):\n",
    "    W.append(0.75 * f1.comment_id[i]) \n",
    "    \n",
    "#for i in range(l1):\n",
    " #   print(W[i])\n",
    "\n",
    "#f1.insert(3,'weights',W, True)       \n",
    "    \n",
    "#df = pd.read_csv(\"new_post.csv\")\n",
    "f1[\"weights\"] = W\n",
    "f1.to_csv(\"user_weight_comments.csv\", index=False)    "
   ]
  },
  {
   "cell_type": "code",
   "execution_count": 15,
   "metadata": {},
   "outputs": [],
   "source": [
    "import pandas as pd\n",
    "\n",
    "f2 = pd.read_csv('user_weight_comments.csv')\n",
    "\n",
    "#f2.loc(f2['user_id'] == f2['friend_id'])\n",
    "\n"
   ]
  },
  {
   "cell_type": "code",
   "execution_count": null,
   "metadata": {},
   "outputs": [],
   "source": []
  }
 ],
 "metadata": {
  "kernelspec": {
   "display_name": "Python 3",
   "language": "python",
   "name": "python3"
  },
  "language_info": {
   "codemirror_mode": {
    "name": "ipython",
    "version": 3
   },
   "file_extension": ".py",
   "mimetype": "text/x-python",
   "name": "python",
   "nbconvert_exporter": "python",
   "pygments_lexer": "ipython3",
   "version": "3.8.5"
  }
 },
 "nbformat": 4,
 "nbformat_minor": 4
}
