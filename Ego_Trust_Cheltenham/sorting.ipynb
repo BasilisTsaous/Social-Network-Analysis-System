{
 "cells": [
  {
   "cell_type": "code",
   "execution_count": 3,
   "metadata": {},
   "outputs": [],
   "source": [
    "import pandas as pd\n",
    "\n",
    "f1 = pd.read_csv('post_GROUP_1.csv')\n",
    "f2 = pd.read_csv('comment_GROUP_1.csv')\n",
    "f3 = pd.read_csv('like_GROUP_1.csv')\n",
    "\n",
    "nf1 = f1.sort_values('id')\n",
    "nf1.to_csv('sort_posts.csv')\n",
    "\n",
    "nf2 = f2.sort_values('pid')\n",
    "nf2.to_csv('sort_comments.csv')\n",
    "\n",
    "nf3 = f3.sort_values('pid')\n",
    "nf3.to_csv('sort_likes.csv')"
   ]
  },
  {
   "cell_type": "code",
   "execution_count": null,
   "metadata": {},
   "outputs": [],
   "source": []
  }
 ],
 "metadata": {
  "kernelspec": {
   "display_name": "Python 3",
   "language": "python",
   "name": "python3"
  },
  "language_info": {
   "codemirror_mode": {
    "name": "ipython",
    "version": 3
   },
   "file_extension": ".py",
   "mimetype": "text/x-python",
   "name": "python",
   "nbconvert_exporter": "python",
   "pygments_lexer": "ipython3",
   "version": "3.8.5"
  }
 },
 "nbformat": 4,
 "nbformat_minor": 4
}
