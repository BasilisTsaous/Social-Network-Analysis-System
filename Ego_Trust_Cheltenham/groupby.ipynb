{
 "cells": [
  {
   "cell_type": "code",
   "execution_count": 1,
   "metadata": {},
   "outputs": [],
   "source": [
    "import pandas as pd\n",
    "\n",
    "df = pd.read_csv('friend_comments.csv')\n",
    "\n",
    "f2 = df.user_id.nunique()\n",
    "f2\n",
    "\n",
    "f1 = df.groupby(['user_id','friend_id']).count().drop(columns=['post','user_name','friend_name','rid','msg'])\n",
    "#f1.reset_index().to_csv('groupby.csv')\n",
    "\n",
    "f1.reset_index().to_csv('user_comments.csv',index=False)\n",
    "#p = f1.pid.nunique()\n",
    "#f2 = f1.user_id.unique()\n",
    "#f2"
   ]
  },
  {
   "cell_type": "code",
   "execution_count": 2,
   "metadata": {},
   "outputs": [
    {
     "data": {
      "text/plain": [
       "802"
      ]
     },
     "execution_count": 2,
     "metadata": {},
     "output_type": "execute_result"
    }
   ],
   "source": [
    "import pandas as pd\n",
    "f1 = pd.read_csv('groupby1.csv')\n",
    "\n",
    "f2 = f1.user_id.nunique()\n",
    "f2 "
   ]
  },
  {
   "cell_type": "code",
   "execution_count": 3,
   "metadata": {},
   "outputs": [],
   "source": [
    "import pandas as pd\n",
    "\n",
    "df = pd.read_csv('friend_comments.csv')\n",
    "\n",
    "f3 = df.groupby(['user_name','user_id','friend_id']).count().drop(columns=['friend_name','post','rid','msg'])\n",
    "#f1.reset_index().to_csv('groupby.csv')\n",
    "\n",
    "\n",
    "f3.reset_index().to_csv('groupby1.csv',index=False)"
   ]
  },
  {
   "cell_type": "code",
   "execution_count": 4,
   "metadata": {},
   "outputs": [],
   "source": [
    "import pandas as pd\n",
    "\n",
    "df = pd.read_csv('friend_likes.csv')\n",
    "\n",
    "fx =  df.loc[df['comment_id'] == 'x' ]\n",
    "fx.to_csv('like_post.csv', index = False)\n",
    "\n",
    "fs = df.loc[df['comment_id'] != 'x']\n",
    "fs.to_csv('like_comment.csv', index = False)"
   ]
  },
  {
   "cell_type": "code",
   "execution_count": null,
   "metadata": {},
   "outputs": [],
   "source": []
  }
 ],
 "metadata": {
  "kernelspec": {
   "display_name": "Python 3",
   "language": "python",
   "name": "python3"
  },
  "language_info": {
   "codemirror_mode": {
    "name": "ipython",
    "version": 3
   },
   "file_extension": ".py",
   "mimetype": "text/x-python",
   "name": "python",
   "nbconvert_exporter": "python",
   "pygments_lexer": "ipython3",
   "version": "3.8.5"
  }
 },
 "nbformat": 4,
 "nbformat_minor": 4
}
