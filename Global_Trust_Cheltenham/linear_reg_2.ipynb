{
 "cells": [
  {
   "cell_type": "code",
   "execution_count": 1,
   "metadata": {},
   "outputs": [],
   "source": [
    "import pandas as pd\n",
    "import numpy as np\n",
    "#import matplotlib.pyplot as plt\n",
    "from sklearn.model_selection import train_test_split\n",
    "from sklearn.linear_model import LinearRegression\n",
    "#from sklearn import linear_model\n",
    "from sklearn.preprocessing import StandardScaler\n",
    "#from sklearn.metrics import r2_score\n",
    "\n",
    "df = pd.read_csv(\"linear_data.csv\")\n",
    "\n",
    "x = df[['user_posts','user_comments','user_shares','user_likes','user_sad', 'user_love', 'user_angry', 'user_wow', 'user_haha', 'user_thankful']].values\n",
    "y = df['TRUST'].values\n",
    "\n",
    "\n",
    "#Split the dataset in training/test set\n",
    "x_train,x_test,y_train,y_test = train_test_split(x,y,test_size=0.3, random_state=0)\n",
    "\n",
    "scaler = StandardScaler()\n",
    "\n",
    "#Train the model on the training set\n",
    "normalized_x_train = pd.DataFrame(scaler.fit_transform(x_train))\n",
    "reg = LinearRegression()\n",
    "LR = reg.fit(normalized_x_train, y_train)\n",
    "\n",
    "#Predict the test set results\n",
    "normalized_x_test = pd.DataFrame(scaler.transform(x_test))\n",
    "y_test_pred = reg.predict(normalized_x_test)\n",
    "#print(y_test_pred)"
   ]
  },
  {
   "cell_type": "code",
   "execution_count": 2,
   "metadata": {},
   "outputs": [
    {
     "name": "stdout",
     "output_type": "stream",
     "text": [
      "[0.56123341]\n"
     ]
    }
   ],
   "source": [
    "t = reg.predict([[2,2,1,10,1,3,0,0,0,0]])\n",
    "print(t)"
   ]
  },
  {
   "cell_type": "code",
   "execution_count": 3,
   "metadata": {},
   "outputs": [
    {
     "data": {
      "text/plain": [
       "-0.2345611723571006"
      ]
     },
     "execution_count": 3,
     "metadata": {},
     "output_type": "execute_result"
    }
   ],
   "source": [
    "#Evaluate my model\n",
    "from sklearn.metrics import r2_score\n",
    "r2_score(y_test,y_test_pred)"
   ]
  },
  {
   "cell_type": "code",
   "execution_count": 4,
   "metadata": {},
   "outputs": [
    {
     "data": {
      "image/png": "[encoded data removed]",
      "text/plain": [
       "<Figure size 432x288 with 1 Axes>"
      ]
     },
     "metadata": {
      "needs_background": "light"
     },
     "output_type": "display_data"
    }
   ],
   "source": [
    "#Plot the results\n",
    "import matplotlib.pyplot as plt\n",
    "from scipy import stats\n",
    "#plt.figure(figsize=(15,10))\n",
    "slope, intercept, r, p, std_err = stats.linregress(y_test, y_test_pred)\n",
    "\n",
    "def myfunc(y_test):\n",
    "    return slope * y_test + intercept\n",
    "\n",
    "mymodel = list(map(myfunc, y_test))\n",
    "\n",
    "plt.scatter(y_test,y_test_pred)\n",
    "plt.xlabel('Actual')\n",
    "plt.ylabel('Predicted')\n",
    "plt.title('Actual vs Predicted')\n",
    "plt.plot(y_test, mymodel)\n",
    "plt.show()"
   ]
  },
  {
   "cell_type": "code",
   "execution_count": 5,
   "metadata": {},
   "outputs": [
    {
     "data": {
      "text/html": [
       "<div>\n",
       "<style scoped>\n",
       "    .dataframe tbody tr th:only-of-type {\n",
       "        vertical-align: middle;\n",
       "    }\n",
       "\n",
       "    .dataframe tbody tr th {\n",
       "        vertical-align: top;\n",
       "    }\n",
       "\n",
       "    .dataframe thead th {\n",
       "        text-align: right;\n",
       "    }\n",
       "</style>\n",
       "<table border=\"1\" class=\"dataframe\">\n",
       "  <thead>\n",
       "    <tr style=\"text-align: right;\">\n",
       "      <th></th>\n",
       "      <th>Actual Value</th>\n",
       "      <th>Predicted Value</th>\n",
       "      <th>Difference</th>\n",
       "    </tr>\n",
       "  </thead>\n",
       "  <tbody>\n",
       "    <tr>\n",
       "      <th>0</th>\n",
       "      <td>0.2016</td>\n",
       "      <td>0.269610</td>\n",
       "      <td>-0.068010</td>\n",
       "    </tr>\n",
       "    <tr>\n",
       "      <th>1</th>\n",
       "      <td>0.1220</td>\n",
       "      <td>0.307621</td>\n",
       "      <td>-0.185621</td>\n",
       "    </tr>\n",
       "    <tr>\n",
       "      <th>2</th>\n",
       "      <td>0.2130</td>\n",
       "      <td>0.730238</td>\n",
       "      <td>-0.517238</td>\n",
       "    </tr>\n",
       "    <tr>\n",
       "      <th>3</th>\n",
       "      <td>0.7040</td>\n",
       "      <td>0.327174</td>\n",
       "      <td>0.376826</td>\n",
       "    </tr>\n",
       "    <tr>\n",
       "      <th>4</th>\n",
       "      <td>0.3550</td>\n",
       "      <td>0.263290</td>\n",
       "      <td>0.091710</td>\n",
       "    </tr>\n",
       "    <tr>\n",
       "      <th>5</th>\n",
       "      <td>0.7096</td>\n",
       "      <td>0.312652</td>\n",
       "      <td>0.396948</td>\n",
       "    </tr>\n",
       "    <tr>\n",
       "      <th>6</th>\n",
       "      <td>0.2300</td>\n",
       "      <td>0.258430</td>\n",
       "      <td>-0.028430</td>\n",
       "    </tr>\n",
       "    <tr>\n",
       "      <th>7</th>\n",
       "      <td>0.2050</td>\n",
       "      <td>0.268177</td>\n",
       "      <td>-0.063177</td>\n",
       "    </tr>\n",
       "    <tr>\n",
       "      <th>8</th>\n",
       "      <td>0.2416</td>\n",
       "      <td>0.270362</td>\n",
       "      <td>-0.028762</td>\n",
       "    </tr>\n",
       "    <tr>\n",
       "      <th>9</th>\n",
       "      <td>0.1500</td>\n",
       "      <td>0.260671</td>\n",
       "      <td>-0.110671</td>\n",
       "    </tr>\n",
       "    <tr>\n",
       "      <th>10</th>\n",
       "      <td>0.2650</td>\n",
       "      <td>0.263290</td>\n",
       "      <td>0.001710</td>\n",
       "    </tr>\n",
       "    <tr>\n",
       "      <th>11</th>\n",
       "      <td>0.2350</td>\n",
       "      <td>0.259147</td>\n",
       "      <td>-0.024147</td>\n",
       "    </tr>\n",
       "    <tr>\n",
       "      <th>12</th>\n",
       "      <td>0.6719</td>\n",
       "      <td>0.296859</td>\n",
       "      <td>0.375041</td>\n",
       "    </tr>\n",
       "    <tr>\n",
       "      <th>13</th>\n",
       "      <td>0.1250</td>\n",
       "      <td>0.263317</td>\n",
       "      <td>-0.138317</td>\n",
       "    </tr>\n",
       "    <tr>\n",
       "      <th>14</th>\n",
       "      <td>0.1366</td>\n",
       "      <td>0.268343</td>\n",
       "      <td>-0.131743</td>\n",
       "    </tr>\n",
       "    <tr>\n",
       "      <th>15</th>\n",
       "      <td>0.1734</td>\n",
       "      <td>0.268301</td>\n",
       "      <td>-0.094901</td>\n",
       "    </tr>\n",
       "    <tr>\n",
       "      <th>16</th>\n",
       "      <td>0.2800</td>\n",
       "      <td>0.258403</td>\n",
       "      <td>0.021597</td>\n",
       "    </tr>\n",
       "    <tr>\n",
       "      <th>17</th>\n",
       "      <td>0.2500</td>\n",
       "      <td>0.258417</td>\n",
       "      <td>-0.008417</td>\n",
       "    </tr>\n",
       "    <tr>\n",
       "      <th>18</th>\n",
       "      <td>0.2300</td>\n",
       "      <td>0.258430</td>\n",
       "      <td>-0.028430</td>\n",
       "    </tr>\n",
       "    <tr>\n",
       "      <th>19</th>\n",
       "      <td>0.1150</td>\n",
       "      <td>0.263276</td>\n",
       "      <td>-0.148276</td>\n",
       "    </tr>\n",
       "  </tbody>\n",
       "</table>\n",
       "</div>"
      ],
      "text/plain": [
       "    Actual Value  Predicted Value  Difference\n",
       "0         0.2016         0.269610   -0.068010\n",
       "1         0.1220         0.307621   -0.185621\n",
       "2         0.2130         0.730238   -0.517238\n",
       "3         0.7040         0.327174    0.376826\n",
       "4         0.3550         0.263290    0.091710\n",
       "5         0.7096         0.312652    0.396948\n",
       "6         0.2300         0.258430   -0.028430\n",
       "7         0.2050         0.268177   -0.063177\n",
       "8         0.2416         0.270362   -0.028762\n",
       "9         0.1500         0.260671   -0.110671\n",
       "10        0.2650         0.263290    0.001710\n",
       "11        0.2350         0.259147   -0.024147\n",
       "12        0.6719         0.296859    0.375041\n",
       "13        0.1250         0.263317   -0.138317\n",
       "14        0.1366         0.268343   -0.131743\n",
       "15        0.1734         0.268301   -0.094901\n",
       "16        0.2800         0.258403    0.021597\n",
       "17        0.2500         0.258417   -0.008417\n",
       "18        0.2300         0.258430   -0.028430\n",
       "19        0.1150         0.263276   -0.148276"
      ]
     },
     "execution_count": 5,
     "metadata": {},
     "output_type": "execute_result"
    }
   ],
   "source": [
    "pred_y_df=pd.DataFrame({'Actual Value': y_test, 'Predicted Value':y_test_pred, 'Difference': y_test-y_test_pred })\n",
    "pred_y_df[0:20]"
   ]
  },
  {
   "cell_type": "code",
   "execution_count": null,
   "metadata": {},
   "outputs": [],
   "source": []
  }
 ],
 "metadata": {
  "kernelspec": {
   "display_name": "Python 3",
   "language": "python",
   "name": "python3"
  },
  "language_info": {
   "codemirror_mode": {
    "name": "ipython",
    "version": 3
   },
   "file_extension": ".py",
   "mimetype": "text/x-python",
   "name": "python",
   "nbconvert_exporter": "python",
   "pygments_lexer": "ipython3",
   "version": "3.8.5"
  }
 },
 "nbformat": 4,
 "nbformat_minor": 4
}
