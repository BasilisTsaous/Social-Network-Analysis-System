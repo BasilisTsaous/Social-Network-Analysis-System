{
 "cells": [
  {
   "cell_type": "code",
   "execution_count": 8,
   "metadata": {},
   "outputs": [
    {
     "name": "stdout",
     "output_type": "stream",
     "text": [
      "[0.30745994]\n",
      "[0.07216598 0.02375107]\n",
      "0.30453195429472024\n"
     ]
    },
    {
     "data": {
      "text/plain": [
       "-999.0861700003736"
      ]
     },
     "execution_count": 8,
     "metadata": {},
     "output_type": "execute_result"
    }
   ],
   "source": [
    "import pandas as pd\n",
    "from sklearn import linear_model\n",
    "from sklearn.preprocessing import StandardScaler\n",
    "\n",
    "scale = StandardScaler()\n",
    "\n",
    "df = pd.read_csv(\"linear_data.csv\")\n",
    "X = df[['user_posts','total responses']]\n",
    "y = df['TRUST']\n",
    "\n",
    "scaledX = scale.fit_transform(X)\n",
    "#print(scaledX)\n",
    "\n",
    "reg = linear_model.LinearRegression()\n",
    "reg.fit(scaledX, y)\n",
    "\n",
    "scaled = scale.transform([[9,65]])\n",
    "predicted = reg.predict([scaled[0]])\n",
    "print(predicted)\n",
    "\n",
    "print(reg.coef_)\n",
    "\n",
    "print(reg.intercept_)\n",
    "\n",
    "reg.score(df[['user_posts', 'total responses']], df['TRUST'])"
   ]
  },
  {
   "cell_type": "code",
   "execution_count": null,
   "metadata": {},
   "outputs": [],
   "source": []
  }
 ],
 "metadata": {
  "kernelspec": {
   "display_name": "Python 3",
   "language": "python",
   "name": "python3"
  },
  "language_info": {
   "codemirror_mode": {
    "name": "ipython",
    "version": 3
   },
   "file_extension": ".py",
   "mimetype": "text/x-python",
   "name": "python",
   "nbconvert_exporter": "python",
   "pygments_lexer": "ipython3",
   "version": "3.8.5"
  }
 },
 "nbformat": 4,
 "nbformat_minor": 4
}
