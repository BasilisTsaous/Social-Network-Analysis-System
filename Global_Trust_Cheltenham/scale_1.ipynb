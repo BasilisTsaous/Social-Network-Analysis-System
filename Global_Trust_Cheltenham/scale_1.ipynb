{
 "cells": [
  {
   "cell_type": "code",
   "execution_count": 1,
   "metadata": {},
   "outputs": [
    {
     "name": "stdout",
     "output_type": "stream",
     "text": [
      "[0.68404651]\n"
     ]
    }
   ],
   "source": [
    "import pandas as pd\n",
    "from sklearn import linear_model\n",
    "from sklearn.preprocessing import StandardScaler\n",
    "\n",
    "scale = StandardScaler()\n",
    "\n",
    "df = pd.read_csv(\"INDIRECT_TRUST.csv\")\n",
    "X = df[['user_posts','Participation Trust','Response Trust']]\n",
    "y = df['Indirect Trust']\n",
    "\n",
    "scaledX = scale.fit_transform(X)\n",
    "#print(scaledX)\n",
    "\n",
    "reg = linear_model.LinearRegression()\n",
    "reg.fit(scaledX, y)\n",
    "\n",
    "scaled = scale.transform([[79,1,0.3681]])\n",
    "predicted = reg.predict([scaled[0]])\n",
    "print(predicted)\n"
   ]
  },
  {
   "cell_type": "code",
   "execution_count": null,
   "metadata": {},
   "outputs": [],
   "source": []
  }
 ],
 "metadata": {
  "kernelspec": {
   "display_name": "Python 3",
   "language": "python",
   "name": "python3"
  },
  "language_info": {
   "codemirror_mode": {
    "name": "ipython",
    "version": 3
   },
   "file_extension": ".py",
   "mimetype": "text/x-python",
   "name": "python",
   "nbconvert_exporter": "python",
   "pygments_lexer": "ipython3",
   "version": "3.8.5"
  }
 },
 "nbformat": 4,
 "nbformat_minor": 4
}
