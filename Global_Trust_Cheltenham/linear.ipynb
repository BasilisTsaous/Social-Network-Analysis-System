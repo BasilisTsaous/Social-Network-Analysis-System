{
 "cells": [
  {
   "cell_type": "code",
   "execution_count": 7,
   "metadata": {},
   "outputs": [
    {
     "data": {
      "image/png": "[encoded data removed]",
      "text/plain": [
       "<Figure size 432x288 with 1 Axes>"
      ]
     },
     "metadata": {
      "needs_background": "light"
     },
     "output_type": "display_data"
    }
   ],
   "source": [
    "import csv\n",
    "import numpy as np\n",
    "#import pandas\n",
    "import matplotlib.pyplot as plt\n",
    "from scipy import stats\n",
    "\n",
    "# open the file in universal line ending mode \n",
    "with open('INDIRECT_TRUST.csv', 'r') as it_file:\n",
    "  # read the file as a dictionary for each row ({header : value})\n",
    "  reader = csv.DictReader(it_file)\n",
    "  it = {}\n",
    "  for row in reader:\n",
    "    for header, value in row.items():\n",
    "      try:\n",
    "        it[header].append(value)\n",
    "      except KeyError:\n",
    "        it[header] = [value]\n",
    "        \n",
    "#Put all the parameters in separate lists \n",
    "user_id = it['user_id']\n",
    "user_posts = it['user_posts']\n",
    "p_trust = it['Participation Trust']\n",
    "r_trust = it['Response Trust']\n",
    "i_trust = it['Indirect Trust']\n",
    "\n",
    "l = len(user_posts)  #the number of the  post id's in the network\n",
    "    \n",
    "#for i in range(l):\n",
    " #   if user_posts[i]>='300':\n",
    "  #      user_posts[i] = '32'\n",
    "        \n",
    "    \n",
    "x = np.asarray(user_posts, dtype=int)\n",
    "y = np.asarray(i_trust, dtype=float)\n",
    "\n",
    "#x = [79,10,9,2,36,7,15,8,3,11]\n",
    "#y = [0.6492,0.5645,0.6489,0.0,0.6529,0.0764,0.6574,0.6481,0.11,0.6596]\n",
    "\n",
    "slope, intercept, r, p, std_err = stats.linregress(x, y)\n",
    "\n",
    "def myfunc(x):\n",
    "    return slope * x + intercept\n",
    "\n",
    "mymodel = list(map(myfunc, x))\n",
    "\n",
    "plt.scatter(x, y)\n",
    "plt.plot(x, mymodel)\n",
    "plt.show()"
   ]
  },
  {
   "cell_type": "code",
   "execution_count": 2,
   "metadata": {},
   "outputs": [
    {
     "name": "stdout",
     "output_type": "stream",
     "text": [
      "0.4121198789448796\n"
     ]
    }
   ],
   "source": [
    "print(r)"
   ]
  },
  {
   "cell_type": "code",
   "execution_count": 5,
   "metadata": {},
   "outputs": [
    {
     "name": "stdout",
     "output_type": "stream",
     "text": [
      "1.105097054587039\n"
     ]
    }
   ],
   "source": [
    "trust = myfunc(200)\n",
    "print(trust)"
   ]
  },
  {
   "cell_type": "code",
   "execution_count": null,
   "metadata": {},
   "outputs": [],
   "source": []
  }
 ],
 "metadata": {
  "kernelspec": {
   "display_name": "Python 3",
   "language": "python",
   "name": "python3"
  },
  "language_info": {
   "codemirror_mode": {
    "name": "ipython",
    "version": 3
   },
   "file_extension": ".py",
   "mimetype": "text/x-python",
   "name": "python",
   "nbconvert_exporter": "python",
   "pygments_lexer": "ipython3",
   "version": "3.8.5"
  }
 },
 "nbformat": 4,
 "nbformat_minor": 4
}
