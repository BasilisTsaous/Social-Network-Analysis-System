{
 "cells": [
  {
   "cell_type": "code",
   "execution_count": 1,
   "metadata": {},
   "outputs": [],
   "source": [
    "import pandas as pd\n",
    "import numpy as np\n",
    "#import matplotlib.pyplot as plt\n",
    "from sklearn.model_selection import train_test_split\n",
    "from sklearn.linear_model import LinearRegression\n",
    "#from sklearn import linear_model\n",
    "from sklearn.preprocessing import StandardScaler\n",
    "#from sklearn.metrics import r2_score\n",
    "\n",
    "df = pd.read_csv(\"INDIRECT_TRUST.csv\")\n",
    "\n",
    "x = df[['user_posts','Participation Trust', 'Response Trust']].values\n",
    "y = df['Indirect Trust'].values\n",
    "\n",
    "#Split the dataset in training/test set\n",
    "x_train,x_test,y_train,y_test = train_test_split(x,y,test_size=0.3, random_state=0)\n",
    "\n",
    "scaler = StandardScaler()\n",
    "\n",
    "#Train the model on the training set\n",
    "normalized_x_train = pd.DataFrame(scaler.fit_transform(x_train))\n",
    "reg = LinearRegression()\n",
    "reg.fit(normalized_x_train, y_train)\n",
    "\n",
    "#Predict the test set results\n",
    "normalized_x_test = pd.DataFrame(scaler.transform(x_test))\n",
    "y_test_pred = reg.predict(normalized_x_test)\n",
    "#print(y_test_pred)"
   ]
  },
  {
   "cell_type": "code",
   "execution_count": 2,
   "metadata": {},
   "outputs": [
    {
     "name": "stdout",
     "output_type": "stream",
     "text": [
      "[0.4989972]\n"
     ]
    }
   ],
   "source": [
    "t = reg.predict([[24,1,0.0]])\n",
    "print(t)"
   ]
  },
  {
   "cell_type": "code",
   "execution_count": 3,
   "metadata": {},
   "outputs": [
    {
     "data": {
      "text/plain": [
       "0.9999999877463772"
      ]
     },
     "execution_count": 3,
     "metadata": {},
     "output_type": "execute_result"
    }
   ],
   "source": [
    "#Evaluate my model\n",
    "from sklearn.metrics import r2_score\n",
    "r2_score(y_test,y_test_pred)"
   ]
  },
  {
   "cell_type": "code",
   "execution_count": 4,
   "metadata": {},
   "outputs": [
    {
     "data": {
      "image/png": "[encoded data removed]",
      "text/plain": [
       "<Figure size 432x288 with 1 Axes>"
      ]
     },
     "metadata": {
      "needs_background": "light"
     },
     "output_type": "display_data"
    }
   ],
   "source": [
    "#Plot the results\n",
    "import matplotlib.pyplot as plt\n",
    "from scipy import stats\n",
    "#plt.figure(figsize=(15,10))\n",
    "slope, intercept, r, p, std_err = stats.linregress(y_test, y_test_pred)\n",
    "\n",
    "def myfunc(y_test):\n",
    "    return slope * y_test + intercept\n",
    "\n",
    "mymodel = list(map(myfunc, y_test))\n",
    "\n",
    "plt.scatter(y_test,y_test_pred)\n",
    "plt.xlabel('Actual')\n",
    "plt.ylabel('Predicted')\n",
    "plt.title('Actual vs Predicted')\n",
    "plt.plot(y_test, mymodel)\n",
    "plt.show()"
   ]
  },
  {
   "cell_type": "code",
   "execution_count": 5,
   "metadata": {},
   "outputs": [
    {
     "data": {
      "text/html": [
       "<div>\n",
       "<style scoped>\n",
       "    .dataframe tbody tr th:only-of-type {\n",
       "        vertical-align: middle;\n",
       "    }\n",
       "\n",
       "    .dataframe tbody tr th {\n",
       "        vertical-align: top;\n",
       "    }\n",
       "\n",
       "    .dataframe thead th {\n",
       "        text-align: right;\n",
       "    }\n",
       "</style>\n",
       "<table border=\"1\" class=\"dataframe\">\n",
       "  <thead>\n",
       "    <tr style=\"text-align: right;\">\n",
       "      <th></th>\n",
       "      <th>Actual Value</th>\n",
       "      <th>Predicted Value</th>\n",
       "      <th>Difference</th>\n",
       "    </tr>\n",
       "  </thead>\n",
       "  <tbody>\n",
       "    <tr>\n",
       "      <th>0</th>\n",
       "      <td>0.7278</td>\n",
       "      <td>0.727751</td>\n",
       "      <td>4.947447e-05</td>\n",
       "    </tr>\n",
       "    <tr>\n",
       "      <th>1</th>\n",
       "      <td>0.3250</td>\n",
       "      <td>0.325000</td>\n",
       "      <td>-4.094990e-07</td>\n",
       "    </tr>\n",
       "    <tr>\n",
       "      <th>2</th>\n",
       "      <td>0.6739</td>\n",
       "      <td>0.673898</td>\n",
       "      <td>1.552867e-06</td>\n",
       "    </tr>\n",
       "    <tr>\n",
       "      <th>3</th>\n",
       "      <td>0.1350</td>\n",
       "      <td>0.134999</td>\n",
       "      <td>1.062316e-06</td>\n",
       "    </tr>\n",
       "    <tr>\n",
       "      <th>4</th>\n",
       "      <td>0.2270</td>\n",
       "      <td>0.226999</td>\n",
       "      <td>6.660771e-07</td>\n",
       "    </tr>\n",
       "    <tr>\n",
       "      <th>5</th>\n",
       "      <td>0.2750</td>\n",
       "      <td>0.275000</td>\n",
       "      <td>-2.217923e-08</td>\n",
       "    </tr>\n",
       "    <tr>\n",
       "      <th>6</th>\n",
       "      <td>0.1250</td>\n",
       "      <td>0.124999</td>\n",
       "      <td>1.139780e-06</td>\n",
       "    </tr>\n",
       "    <tr>\n",
       "      <th>7</th>\n",
       "      <td>0.5900</td>\n",
       "      <td>0.589999</td>\n",
       "      <td>6.206432e-07</td>\n",
       "    </tr>\n",
       "    <tr>\n",
       "      <th>8</th>\n",
       "      <td>0.2420</td>\n",
       "      <td>0.241999</td>\n",
       "      <td>5.498812e-07</td>\n",
       "    </tr>\n",
       "    <tr>\n",
       "      <th>9</th>\n",
       "      <td>0.1866</td>\n",
       "      <td>0.186649</td>\n",
       "      <td>-4.894225e-05</td>\n",
       "    </tr>\n",
       "    <tr>\n",
       "      <th>10</th>\n",
       "      <td>0.2025</td>\n",
       "      <td>0.202499</td>\n",
       "      <td>7.767565e-07</td>\n",
       "    </tr>\n",
       "    <tr>\n",
       "      <th>11</th>\n",
       "      <td>0.1800</td>\n",
       "      <td>0.179999</td>\n",
       "      <td>7.137284e-07</td>\n",
       "    </tr>\n",
       "    <tr>\n",
       "      <th>12</th>\n",
       "      <td>0.0000</td>\n",
       "      <td>-0.000002</td>\n",
       "      <td>2.345402e-06</td>\n",
       "    </tr>\n",
       "    <tr>\n",
       "      <th>13</th>\n",
       "      <td>0.7658</td>\n",
       "      <td>0.765851</td>\n",
       "      <td>-5.074156e-05</td>\n",
       "    </tr>\n",
       "    <tr>\n",
       "      <th>14</th>\n",
       "      <td>0.7129</td>\n",
       "      <td>0.712899</td>\n",
       "      <td>6.178990e-07</td>\n",
       "    </tr>\n",
       "    <tr>\n",
       "      <th>15</th>\n",
       "      <td>0.1875</td>\n",
       "      <td>0.187499</td>\n",
       "      <td>8.929524e-07</td>\n",
       "    </tr>\n",
       "    <tr>\n",
       "      <th>16</th>\n",
       "      <td>0.1616</td>\n",
       "      <td>0.161649</td>\n",
       "      <td>-4.874859e-05</td>\n",
       "    </tr>\n",
       "    <tr>\n",
       "      <th>17</th>\n",
       "      <td>0.0000</td>\n",
       "      <td>-0.000002</td>\n",
       "      <td>2.108080e-06</td>\n",
       "    </tr>\n",
       "    <tr>\n",
       "      <th>18</th>\n",
       "      <td>0.3350</td>\n",
       "      <td>0.335000</td>\n",
       "      <td>-4.869630e-07</td>\n",
       "    </tr>\n",
       "    <tr>\n",
       "      <th>19</th>\n",
       "      <td>0.6754</td>\n",
       "      <td>0.675448</td>\n",
       "      <td>-4.845914e-05</td>\n",
       "    </tr>\n",
       "  </tbody>\n",
       "</table>\n",
       "</div>"
      ],
      "text/plain": [
       "    Actual Value  Predicted Value    Difference\n",
       "0         0.7278         0.727751  4.947447e-05\n",
       "1         0.3250         0.325000 -4.094990e-07\n",
       "2         0.6739         0.673898  1.552867e-06\n",
       "3         0.1350         0.134999  1.062316e-06\n",
       "4         0.2270         0.226999  6.660771e-07\n",
       "5         0.2750         0.275000 -2.217923e-08\n",
       "6         0.1250         0.124999  1.139780e-06\n",
       "7         0.5900         0.589999  6.206432e-07\n",
       "8         0.2420         0.241999  5.498812e-07\n",
       "9         0.1866         0.186649 -4.894225e-05\n",
       "10        0.2025         0.202499  7.767565e-07\n",
       "11        0.1800         0.179999  7.137284e-07\n",
       "12        0.0000        -0.000002  2.345402e-06\n",
       "13        0.7658         0.765851 -5.074156e-05\n",
       "14        0.7129         0.712899  6.178990e-07\n",
       "15        0.1875         0.187499  8.929524e-07\n",
       "16        0.1616         0.161649 -4.874859e-05\n",
       "17        0.0000        -0.000002  2.108080e-06\n",
       "18        0.3350         0.335000 -4.869630e-07\n",
       "19        0.6754         0.675448 -4.845914e-05"
      ]
     },
     "execution_count": 5,
     "metadata": {},
     "output_type": "execute_result"
    }
   ],
   "source": [
    "pred_y_df=pd.DataFrame({'Actual Value': y_test, 'Predicted Value':y_test_pred, 'Difference': y_test-y_test_pred })\n",
    "pred_y_df[0:20]"
   ]
  },
  {
   "cell_type": "code",
   "execution_count": null,
   "metadata": {},
   "outputs": [],
   "source": []
  }
 ],
 "metadata": {
  "kernelspec": {
   "display_name": "Python 3",
   "language": "python",
   "name": "python3"
  },
  "language_info": {
   "codemirror_mode": {
    "name": "ipython",
    "version": 3
   },
   "file_extension": ".py",
   "mimetype": "text/x-python",
   "name": "python",
   "nbconvert_exporter": "python",
   "pygments_lexer": "ipython3",
   "version": "3.8.5"
  }
 },
 "nbformat": 4,
 "nbformat_minor": 4
}
