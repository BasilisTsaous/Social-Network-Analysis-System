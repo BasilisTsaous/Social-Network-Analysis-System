{
 "cells": [
  {
   "cell_type": "code",
   "execution_count": 1,
   "metadata": {},
   "outputs": [],
   "source": [
    "import pandas as pd\n",
    "\n",
    "df = pd.read_csv('data.csv', sep=';')\n",
    "\n",
    "l = len(df)\n",
    "#print(l)"
   ]
  },
  {
   "cell_type": "code",
   "execution_count": null,
   "metadata": {},
   "outputs": [],
   "source": [
    "E = []\n",
    "A = []\n",
    "C = []\n",
    "N = []\n",
    "O = []\n",
    "SCORE = []\n",
    "\n",
    "for i in range(l):\n",
    "    \n",
    "    s1 = 20 + df.EXT1[i] - df.EXT2[i] + df.EXT3[i] - df.EXT4[i] + df.EXT5[i] - df.EXT6[i] + df.EXT7[i] - df.EXT8[i] + df.EXT9[i] - df.EXT10[i]\n",
    "    E.append(s1)\n",
    "    \n",
    "    s2 = 14 - df.AGR1[i] + df.AGR2[i] - df.AGR3[i] + df.AGR4[i] - df.AGR5[i] + df.AGR6[i] - df.AGR7[i] + df.AGR8[i] + df.AGR9[i] + df.AGR10[i]\n",
    "    A.append(s2)\n",
    "    \n",
    "    s3 = 14 + df.CSN1[i] - df.CSN2[i] + df.CSN3[i] - df.CSN4[i] + df.CSN5[i] - df.CSN6[i] + df.CSN7[i] - df.CSN8[i] + df.CSN9[i] + df.CSN10[i]\n",
    "    C.append(s3)\n",
    "    \n",
    "    s4 = 38 - df.EST1[i] + df.EST2[i] - df.EST3[i] + df.EST4[i] - df.EST5[i] - df.EST6[i] - df.EST7[i] - df.EST8[i] - df.EST9[i] - df.EST10[i]\n",
    "    N.append(s4)\n",
    "    \n",
    "    s5 = 8 + df.OPN1[i] - df.OPN2[i] + df.OPN3[i] - df.OPN4[i] + df.OPN5[i] - df.OPN6[i] + df.OPN7[i] + df.OPN8[i] + df.OPN9[i] + df.OPN10[i]\n",
    "    O.append(s5)\n",
    "    \n",
    "    s6 = s1 + s2 + s3 + s4 + s5\n",
    "    SCORE.append(s6)\n",
    "    \n",
    "    \n",
    "df[\"Extroversion\"] = E   \n",
    "df[\"Agreeableness\"] = A\n",
    "df[\"Conscientiousness\"] = C\n",
    "df[\"Neuroticism\"] = N\n",
    "df[\"Openness_to_Experience\"] = O\n",
    "df[\"Personality Score\"] = SCORE\n",
    "\n",
    "#df.to_csv(\"personality_data.csv\", index=False)"
   ]
  },
  {
   "cell_type": "code",
   "execution_count": 2,
   "metadata": {},
   "outputs": [],
   "source": [
    "import pandas as pd\n",
    "\n",
    "df = pd.read_csv('linear_data.csv')\n",
    "\n",
    "df5 = df.sort_values(['user_posts','user_comments','user_shares','user_likes'], ascending=False)\n",
    "df5.to_csv('sorted_trust.csv', index=False)"
   ]
  },
  {
   "cell_type": "code",
   "execution_count": null,
   "metadata": {},
   "outputs": [],
   "source": []
  },
  {
   "cell_type": "code",
   "execution_count": 3,
   "metadata": {},
   "outputs": [],
   "source": [
    "import pandas as pd\n",
    "df1 = pd.read_csv('personality_data.csv')\n",
    "\n",
    "F1 = df1.head(2538)\n",
    "\n",
    "df3 = F1.sort_values('Extroversion', ascending=False)\n",
    "df3.to_csv('sorted_Extroversion.csv', index=False)"
   ]
  },
  {
   "cell_type": "code",
   "execution_count": 4,
   "metadata": {},
   "outputs": [],
   "source": [
    "import pandas as pd\n",
    "f1 = pd.read_csv('sorted_Extroversion.csv')\n",
    "f6 = pd.read_csv('sorted_trust.csv')\n",
    "\n",
    "result = pd.concat([f6,f1],axis=1)\n",
    "\n",
    "f4 = result.drop(result.loc[:,'EXT1':'OPN10'].columns, axis=1)\n",
    "\n",
    "f4.to_csv('final_extroversion.csv',index=False)"
   ]
  },
  {
   "cell_type": "code",
   "execution_count": 5,
   "metadata": {},
   "outputs": [],
   "source": [
    "import pandas as pd\n",
    "df1 = pd.read_csv('personality_data.csv')\n",
    "\n",
    "F1 = df1.head(2538)\n",
    "\n",
    "df3 = F1.sort_values('Agreeableness', ascending=False)\n",
    "df3.to_csv('sorted_Agreeableness.csv', index=False)"
   ]
  },
  {
   "cell_type": "code",
   "execution_count": 6,
   "metadata": {},
   "outputs": [],
   "source": [
    "import pandas as pd\n",
    "f2 = pd.read_csv('sorted_Agreeableness.csv')\n",
    "f6 = pd.read_csv('sorted_trust.csv')\n",
    "\n",
    "result = pd.concat([f6,f2],axis=1)\n",
    "\n",
    "f4 = result.drop(result.loc[:,'EXT1':'OPN10'].columns, axis=1)\n",
    "\n",
    "f4.to_csv('final_agreeableness.csv',index=False)"
   ]
  },
  {
   "cell_type": "code",
   "execution_count": 7,
   "metadata": {},
   "outputs": [],
   "source": [
    "import pandas as pd\n",
    "df1 = pd.read_csv('personality_data.csv')\n",
    "\n",
    "F1 = df1.head(2538)\n",
    "\n",
    "df3 = F1.sort_values('Conscientiousness', ascending=False)\n",
    "df3.to_csv('sorted_Conscientiousness.csv', index=False)"
   ]
  },
  {
   "cell_type": "code",
   "execution_count": 8,
   "metadata": {},
   "outputs": [],
   "source": [
    "import pandas as pd\n",
    "f3 = pd.read_csv('sorted_Conscientiousness.csv')\n",
    "f6 = pd.read_csv('sorted_trust.csv')\n",
    "\n",
    "result = pd.concat([f6,f3],axis=1)\n",
    "\n",
    "f4 = result.drop(result.loc[:,'EXT1':'OPN10'].columns, axis=1)\n",
    "\n",
    "f4.to_csv('final_conscientiousness.csv',index=False)"
   ]
  },
  {
   "cell_type": "code",
   "execution_count": 9,
   "metadata": {},
   "outputs": [],
   "source": [
    "import pandas as pd\n",
    "df1 = pd.read_csv('personality_data.csv')\n",
    "\n",
    "F1 = df1.head(2538)\n",
    "\n",
    "df3 = F1.sort_values('Neuroticism', ascending=False)\n",
    "df3.to_csv('sorted_Neuroticism.csv', index=False)"
   ]
  },
  {
   "cell_type": "code",
   "execution_count": 10,
   "metadata": {},
   "outputs": [],
   "source": [
    "import pandas as pd\n",
    "f4 = pd.read_csv('sorted_Neuroticism.csv')\n",
    "f6 = pd.read_csv('sorted_trust.csv')\n",
    "\n",
    "result = pd.concat([f6,f4],axis=1)\n",
    "\n",
    "f4 = result.drop(result.loc[:,'EXT1':'OPN10'].columns, axis=1)\n",
    "\n",
    "f4.to_csv('final_neuroticism.csv',index=False)"
   ]
  },
  {
   "cell_type": "code",
   "execution_count": 11,
   "metadata": {},
   "outputs": [],
   "source": [
    "import pandas as pd\n",
    "df1 = pd.read_csv('personality_data.csv')\n",
    "\n",
    "F1 = df1.head(2538)\n",
    "\n",
    "df3 = F1.sort_values('Openness_to_Experience', ascending=False)\n",
    "df3.to_csv('sorted_Openness.csv', index=False)"
   ]
  },
  {
   "cell_type": "code",
   "execution_count": 12,
   "metadata": {},
   "outputs": [],
   "source": [
    "import pandas as pd\n",
    "f5 = pd.read_csv('sorted_Openness.csv')\n",
    "f6 = pd.read_csv('sorted_trust.csv')\n",
    "\n",
    "result = pd.concat([f6,f5],axis=1)\n",
    "\n",
    "f4 = result.drop(result.loc[:,'EXT1':'OPN10'].columns, axis=1)\n",
    "\n",
    "f4.to_csv('final_openness.csv',index=False)"
   ]
  },
  {
   "cell_type": "code",
   "execution_count": 13,
   "metadata": {},
   "outputs": [],
   "source": [
    "#df1 = pd.read_csv('personality_data.csv')\n",
    "\n",
    "#df4 = df1.sort_values(['Extroversion', 'Agreeableness', 'Conscientiousness', 'Neuroticism', 'Openness to Experience'], ascending=False)\n",
    "#df4.to_csv('sorted_all.csv', index=False)"
   ]
  }
 ],
 "metadata": {
  "kernelspec": {
   "display_name": "Python 3",
   "language": "python",
   "name": "python3"
  },
  "language_info": {
   "codemirror_mode": {
    "name": "ipython",
    "version": 3
   },
   "file_extension": ".py",
   "mimetype": "text/x-python",
   "name": "python",
   "nbconvert_exporter": "python",
   "pygments_lexer": "ipython3",
   "version": "3.8.5"
  }
 },
 "nbformat": 4,
 "nbformat_minor": 4
}
