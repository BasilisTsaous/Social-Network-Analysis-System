{
 "cells": [
  {
   "cell_type": "code",
   "execution_count": 1,
   "metadata": {},
   "outputs": [
    {
     "name": "stdout",
     "output_type": "stream",
     "text": [
      "importing Jupyter notebook from Extroversion_boost.ipynb\n",
      "importing Jupyter notebook from Agreeableness_boost.ipynb\n",
      "importing Jupyter notebook from Conscientiousness_boost.ipynb\n",
      "importing Jupyter notebook from Neuroticism_boost.ipynb\n",
      "importing Jupyter notebook from Openness_boost.ipynb\n",
      "importing Jupyter notebook from Music_boost.ipynb\n",
      "importing Jupyter notebook from Movies_boost.ipynb\n",
      "importing Jupyter notebook from MusicInst_boost.ipynb\n",
      "importing Jupyter notebook from Fun_boost.ipynb\n",
      "importing Jupyter notebook from Internet_boost.ipynb\n",
      "importing Jupyter notebook from Sports_boost.ipynb\n",
      "importing Jupyter notebook from Country_boost.ipynb\n"
     ]
    }
   ],
   "source": [
    "import import_ipynb\n",
    "\n",
    "import Extroversion_boost\n",
    "import Agreeableness_boost\n",
    "import Conscientiousness_boost\n",
    "import Neuroticism_boost\n",
    "import Openness_boost\n",
    "\n",
    "import Music_boost\n",
    "import Movies_boost\n",
    "import MusicInst_boost\n",
    "import Fun_boost\n",
    "import Internet_boost\n",
    "import Sports_boost\n",
    "import Country_boost\n",
    "\n",
    "import pandas as pd\n",
    "import numpy as np\n",
    "#import matplotlib.pyplot as plt\n",
    "from sklearn.model_selection import train_test_split\n",
    "from sklearn.linear_model import LinearRegression\n",
    "#from sklearn import linear_model\n",
    "from sklearn.preprocessing import StandardScaler\n",
    "#from sklearn.metrics import r2_score"
   ]
  },
  {
   "cell_type": "code",
   "execution_count": 2,
   "metadata": {},
   "outputs": [
    {
     "name": "stdout",
     "output_type": "stream",
     "text": [
      "Posts: 38\n",
      "Comments: 570\n",
      "Shares: 5\n",
      "Likes: 4016\n"
     ]
    }
   ],
   "source": [
    "df = pd.read_csv('scraper/user_data.csv')\n",
    "l = len(df)\n",
    "#print(l)\n",
    "\n",
    "col0 = \"post_id\"\n",
    "col1 = \"comments\"\n",
    "col2 = \"shares\"\n",
    "col3 = \"likes\"\n",
    "p1 = df[col0].count()\n",
    "p2 = df[col1].sum()\n",
    "p3 = df[col2].sum()\n",
    "p4 = df[col3].sum()\n",
    "\n",
    "#p1,p2,p3,p4\n",
    "print('Posts:',p1)\n",
    "print('Comments:',p2)\n",
    "print('Shares:',p3)\n",
    "print('Likes:',p4)"
   ]
  },
  {
   "cell_type": "code",
   "execution_count": 3,
   "metadata": {},
   "outputs": [
    {
     "name": "stdout",
     "output_type": "stream",
     "text": [
      "Participation Trust = 1\n",
      "The scraped user is PARTICIPATIVE in the network.\n"
     ]
    }
   ],
   "source": [
    "              #Participation Trust\n",
    "    \n",
    "# AP denotes the average number of posts per user on the Facebook network of Cheltenham FAcebook Groups\n",
    "AP = 7.091037402964009\n",
    "\n",
    "# Calculation of Participation Trust for the scraped data of the new user\n",
    "if p1 >= AP:\n",
    "    PT = 1\n",
    "    print('Participation Trust = 1')\n",
    "    print('The scraped user is PARTICIPATIVE in the network.')\n",
    "else:\n",
    "    PT = 0\n",
    "    print('Participation Trust = 0')\n",
    "    print('The scraped user is NON-PARTICIPATIVE in the network.')"
   ]
  },
  {
   "cell_type": "code",
   "execution_count": 4,
   "metadata": {},
   "outputs": [
    {
     "name": "stdout",
     "output_type": "stream",
     "text": [
      "Posts: 38\n",
      "Participation Trust: 1\n",
      "Average Response Trust: 0.0082\n"
     ]
    }
   ],
   "source": [
    "              #Response Trust\n",
    "\n",
    "acts = p2 + p3 + p4\n",
    "#print(acts)\n",
    "\n",
    "W_ACTS = []\n",
    "\n",
    "for i in range(l):\n",
    "    s = df.comments[i] * 0.75 + df.shares[i] * 1.0 + df.likes[i] * 0.25\n",
    "    W_ACTS.append(s)\n",
    "    \n",
    "    \n",
    "# Calculation of Response Trust for each post of the scraped user \n",
    "RT = []\n",
    "for i in range(l):\n",
    "    RT.append(W_ACTS[i]/acts)\n",
    "\n",
    "#Calculation of the Average Response Trust for the scraped user\n",
    "S = 0\n",
    "for i in range(l):\n",
    "    S = S + RT[i]\n",
    "#print(S)\n",
    "\n",
    "ResT = S / p1\n",
    "avgRT = round(ResT,4)\n",
    "#print(avgRT)\n",
    "\n",
    "\n",
    "#Calculation of Indirect Trust for the scraped user\n",
    "#IT = 0.5 * PT + 0.5 * avgRT\n",
    "#print(IT)\n",
    "\n",
    "p1,PT,avgRT\n",
    "print('Posts:',p1)\n",
    "print('Participation Trust:',PT)\n",
    "print('Average Response Trust:',avgRT)"
   ]
  },
  {
   "cell_type": "code",
   "execution_count": 5,
   "metadata": {},
   "outputs": [],
   "source": [
    "df1 = pd.read_csv(\"INDIRECT_TRUST.csv\")\n",
    "\n",
    "x = df1[['user_posts','Participation Trust', 'Response Trust']].values\n",
    "y = df1['Indirect Trust'].values\n",
    "\n",
    "#Split the dataset in training/test set\n",
    "x_train,x_test,y_train,y_test = train_test_split(x,y,test_size=0.3, random_state=0)\n",
    "\n",
    "scaler = StandardScaler()\n",
    "\n",
    "#Train the model on the training set\n",
    "normalized_x_train = pd.DataFrame(scaler.fit_transform(x_train))\n",
    "reg = LinearRegression()\n",
    "reg.fit(normalized_x_train, y_train)\n",
    "\n",
    "#Predict the test set results\n",
    "normalized_x_test = pd.DataFrame(scaler.transform(x_test))\n",
    "y_test_pred = reg.predict(normalized_x_test)\n",
    "#print(y_test_pred)"
   ]
  },
  {
   "cell_type": "code",
   "execution_count": 6,
   "metadata": {},
   "outputs": [
    {
     "data": {
      "image/png": "[encoded data removed]",
      "text/plain": [
       "<Figure size 432x288 with 1 Axes>"
      ]
     },
     "metadata": {
      "needs_background": "light"
     },
     "output_type": "display_data"
    }
   ],
   "source": [
    "#Plot the results\n",
    "import matplotlib.pyplot as plt\n",
    "from scipy import stats\n",
    "#plt.figure(figsize=(15,10))\n",
    "slope, intercept, r, p, std_err = stats.linregress(y_test, y_test_pred)\n",
    "\n",
    "def myfunc(y_test):\n",
    "    return slope * y_test + intercept\n",
    "\n",
    "mymodel = list(map(myfunc, y_test))\n",
    "\n",
    "plt.scatter(y_test,y_test_pred)\n",
    "plt.xlabel('Actual')\n",
    "plt.ylabel('Predicted')\n",
    "plt.title('Actual Trust vs Predicted Trust')\n",
    "plt.plot(y_test, mymodel)\n",
    "plt.show()"
   ]
  },
  {
   "cell_type": "code",
   "execution_count": 7,
   "metadata": {},
   "outputs": [
    {
     "data": {
      "text/plain": [
       "0.9999999877463772"
      ]
     },
     "execution_count": 7,
     "metadata": {},
     "output_type": "execute_result"
    }
   ],
   "source": [
    "#Evaluate my model\n",
    "from sklearn.metrics import r2_score\n",
    "r2_score(y_test,y_test_pred)"
   ]
  },
  {
   "cell_type": "code",
   "execution_count": 8,
   "metadata": {},
   "outputs": [
    {
     "name": "stdout",
     "output_type": "stream",
     "text": [
      "Trust: 0.4997\n"
     ]
    }
   ],
   "source": [
    "t = reg.predict([[p1,PT,avgRT]])\n",
    "p5 = round(float(t),4)\n",
    "print('Trust:',p5)"
   ]
  },
  {
   "cell_type": "code",
   "execution_count": 9,
   "metadata": {},
   "outputs": [
    {
     "name": "stdout",
     "output_type": "stream",
     "text": [
      "[1]\n",
      "The user is extrovert, quite talkative, sociable and tends to enjoy human interactions with others in the community.\n"
     ]
    }
   ],
   "source": [
    "P1 = Extroversion_boost.person(p1,p2,p3,p4,p5)"
   ]
  },
  {
   "cell_type": "code",
   "execution_count": 10,
   "metadata": {},
   "outputs": [
    {
     "name": "stdout",
     "output_type": "stream",
     "text": [
      "[1]\n",
      "The user is relatively polite, kind and sympathetic towards other people in the community.\n"
     ]
    }
   ],
   "source": [
    "P2 = Agreeableness_boost.person(p1,p2,p3,p4,p5)"
   ]
  },
  {
   "cell_type": "code",
   "execution_count": 11,
   "metadata": {},
   "outputs": [
    {
     "name": "stdout",
     "output_type": "stream",
     "text": [
      "[1]\n",
      "The user is relatively careful, self-disciplined and tends to be dependable for others in the community.\n"
     ]
    }
   ],
   "source": [
    "P3 = Conscientiousness_boost.person(p1,p2,p3,p4,p5)"
   ]
  },
  {
   "cell_type": "code",
   "execution_count": 12,
   "metadata": {},
   "outputs": [
    {
     "name": "stdout",
     "output_type": "stream",
     "text": [
      "[0]\n",
      "The user is calm, cheerful and has a stong control over his emotions.\n"
     ]
    }
   ],
   "source": [
    "P4 = Neuroticism_boost.person(p1,p2,p3,p4,p5)"
   ]
  },
  {
   "cell_type": "code",
   "execution_count": 13,
   "metadata": {},
   "outputs": [
    {
     "name": "stdout",
     "output_type": "stream",
     "text": [
      "[1]\n",
      "The user is strong, tenacious and is constantly seeking new experience.\n"
     ]
    }
   ],
   "source": [
    "P5 = Openness_boost.person(p1,p2,p3,p4,p5)"
   ]
  },
  {
   "cell_type": "code",
   "execution_count": 14,
   "metadata": {},
   "outputs": [
    {
     "name": "stdout",
     "output_type": "stream",
     "text": [
      "[1]\n",
      "The user does not enjoy listening to music.\n"
     ]
    }
   ],
   "source": [
    "I1 = Music_boost.imusic(p1,p2,p3,p4,p5)"
   ]
  },
  {
   "cell_type": "code",
   "execution_count": 15,
   "metadata": {},
   "outputs": [
    {
     "name": "stdout",
     "output_type": "stream",
     "text": [
      "[5]\n",
      "The user enjoys watching movies a lot.\n"
     ]
    }
   ],
   "source": [
    "I2 = Movies_boost.imovies(p1,p2,p3,p4,p5)"
   ]
  },
  {
   "cell_type": "code",
   "execution_count": 16,
   "metadata": {},
   "outputs": [
    {
     "name": "stdout",
     "output_type": "stream",
     "text": [
      "[5]\n",
      "The user knows and enjoys playing with musical instruments a lot.\n"
     ]
    }
   ],
   "source": [
    "I3 = MusicInst_boost.imusic_inst(p1,p2,p3,p4,p5)"
   ]
  },
  {
   "cell_type": "code",
   "execution_count": 17,
   "metadata": {},
   "outputs": [
    {
     "name": "stdout",
     "output_type": "stream",
     "text": [
      "[5]\n",
      "The user enjoys spending time and having fun with his friends.\n"
     ]
    }
   ],
   "source": [
    "I4 = Fun_boost.ifun(p1,p2,p3,p4,p5)"
   ]
  },
  {
   "cell_type": "code",
   "execution_count": 18,
   "metadata": {},
   "outputs": [
    {
     "name": "stdout",
     "output_type": "stream",
     "text": [
      "[1]\n",
      "The user does not like to spend time on the Internet.\n"
     ]
    }
   ],
   "source": [
    "I5 = Internet_boost.inet(p1,p2,p3,p4,p5)"
   ]
  },
  {
   "cell_type": "code",
   "execution_count": 19,
   "metadata": {},
   "outputs": [
    {
     "name": "stdout",
     "output_type": "stream",
     "text": [
      "[1]\n",
      "The user does not enjoy sport activities.\n"
     ]
    }
   ],
   "source": [
    "I6 = Sports_boost.isport(p1,p2,p3,p4,p5)"
   ]
  },
  {
   "cell_type": "code",
   "execution_count": 20,
   "metadata": {},
   "outputs": [
    {
     "name": "stdout",
     "output_type": "stream",
     "text": [
      "[5]\n",
      "The user enjoys participating in outdoors activities at the countryside.\n"
     ]
    }
   ],
   "source": [
    "I7 = Country_boost.icountry(p1,p2,p3,p4,p5)"
   ]
  }
 ],
 "metadata": {
  "kernelspec": {
   "display_name": "Python 3",
   "language": "python",
   "name": "python3"
  },
  "language_info": {
   "codemirror_mode": {
    "name": "ipython",
    "version": 3
   },
   "file_extension": ".py",
   "mimetype": "text/x-python",
   "name": "python",
   "nbconvert_exporter": "python",
   "pygments_lexer": "ipython3",
   "version": "3.8.5"
  }
 },
 "nbformat": 4,
 "nbformat_minor": 4
}
