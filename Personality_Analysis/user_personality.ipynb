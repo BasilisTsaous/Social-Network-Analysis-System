{
 "cells": [
  {
   "cell_type": "code",
   "execution_count": 1,
   "metadata": {},
   "outputs": [],
   "source": [
    "import pandas as pd"
   ]
  },
  {
   "cell_type": "code",
   "execution_count": 2,
   "metadata": {},
   "outputs": [],
   "source": [
    "f1 = pd.read_csv('final_extroversion.csv')\n",
    "f2 = pd.read_csv('final_agreeableness.csv')\n",
    "f3 = pd.read_csv('final_conscientiousness.csv')\n",
    "f4 = pd.read_csv('final_neuroticism.csv')\n",
    "f5 = pd.read_csv('final_openness.csv')"
   ]
  },
  {
   "cell_type": "code",
   "execution_count": 3,
   "metadata": {},
   "outputs": [
    {
     "name": "stdout",
     "output_type": "stream",
     "text": [
      "19.810874704491727\n",
      "27.88100866824271\n",
      "23.272261623325452\n",
      "19.15169424743893\n",
      "28.224586288416077\n"
     ]
    }
   ],
   "source": [
    "extroversion_mean = f1['Extroversion'].mean()\n",
    "print(extroversion_mean)\n",
    "agreeableness_mean = f2['Agreeableness'].mean()\n",
    "print(agreeableness_mean)\n",
    "conscientiousness_mean = f3['Conscientiousness'].mean()\n",
    "print(conscientiousness_mean)\n",
    "neuroticism_mean = f4['Neuroticism'].mean()\n",
    "print(neuroticism_mean)\n",
    "openness_mean = f5['Openness_to_Experience'].mean()\n",
    "print(openness_mean)"
   ]
  },
  {
   "cell_type": "code",
   "execution_count": 4,
   "metadata": {},
   "outputs": [],
   "source": [
    "l1 = len(f1)\n",
    "SCORE1 = []\n",
    "\n",
    "for i in range(l1):\n",
    "    if f1.Extroversion[i] >= extroversion_mean:\n",
    "        r1 = 1 \n",
    "        SCORE1.append(r1)\n",
    "    else:\n",
    "        r1 = 0\n",
    "        SCORE1.append(r1)\n",
    "        \n",
    "f1[\"SCORE\"] = SCORE1    \n",
    "\n",
    "result1 = f1.drop(f1.loc[:,'Agreeableness':'Personality Score'].columns, axis=1)\n",
    "result1.to_csv('user_extroversion.csv',index=False)"
   ]
  },
  {
   "cell_type": "code",
   "execution_count": 5,
   "metadata": {},
   "outputs": [],
   "source": [
    "l2 = len(f2)\n",
    "SCORE2 = []\n",
    "\n",
    "for i in range(l2):\n",
    "    if f2.Agreeableness[i] >= agreeableness_mean:\n",
    "        r2 = 1 \n",
    "        SCORE2.append(r2)\n",
    "    else:\n",
    "        r2 = 0\n",
    "        SCORE2.append(r2) \n",
    "        \n",
    "f2[\"SCORE\"] = SCORE2  \n",
    "\n",
    "result2 = f2.drop(['Extroversion', 'Conscientiousness', 'Neuroticism', 'Openness_to_Experience', 'Personality Score'], axis = 1)\n",
    "result2.to_csv('user_agreeableness.csv',index=False)"
   ]
  },
  {
   "cell_type": "code",
   "execution_count": 6,
   "metadata": {},
   "outputs": [],
   "source": [
    "l3 = len(f3)\n",
    "SCORE3 = []\n",
    "\n",
    "for i in range(l3):\n",
    "    if f3.Conscientiousness[i] >= conscientiousness_mean:\n",
    "        r3 = 1 \n",
    "        SCORE3.append(r3)\n",
    "    else:\n",
    "        r3 = 0\n",
    "        SCORE3.append(r3) \n",
    "        \n",
    "f3[\"SCORE\"] = SCORE3     \n",
    "\n",
    "result3 = f3.drop(['Extroversion', 'Agreeableness', 'Neuroticism', 'Openness_to_Experience', 'Personality Score'], axis = 1)\n",
    "result3.to_csv('user_conscientiousness.csv',index=False)"
   ]
  },
  {
   "cell_type": "code",
   "execution_count": 7,
   "metadata": {},
   "outputs": [],
   "source": [
    "l4 = len(f4)\n",
    "SCORE4= []\n",
    "\n",
    "for i in range(l4):\n",
    "    if f4.Neuroticism[i] >= neuroticism_mean:\n",
    "        r4 = 0 \n",
    "        SCORE4.append(r4)\n",
    "    else:\n",
    "        r4 = 1\n",
    "        SCORE4.append(r4) \n",
    "        \n",
    "f4[\"SCORE\"] = SCORE4  \n",
    "\n",
    "result4 = f4.drop(['Extroversion', 'Agreeableness', 'Conscientiousness', 'Openness_to_Experience', 'Personality Score'], axis = 1)\n",
    "result4.to_csv('user_neuroticism.csv',index=False)"
   ]
  },
  {
   "cell_type": "code",
   "execution_count": 8,
   "metadata": {},
   "outputs": [],
   "source": [
    "l5 = len(f5)\n",
    "SCORE5 = []\n",
    "\n",
    "for i in range(l5):\n",
    "    if f5.Openness_to_Experience[i] >= openness_mean:\n",
    "        r5 = 1 \n",
    "        SCORE5.append(r5)\n",
    "    else:\n",
    "        r5 = 0\n",
    "        SCORE5.append(r5) \n",
    "        \n",
    "f5[\"SCORE\"] = SCORE5\n",
    "\n",
    "result5 = f5.drop(['Extroversion', 'Agreeableness', 'Conscientiousness', 'Neuroticism', 'Personality Score'], axis = 1)\n",
    "result5.to_csv('user_openness.csv',index=False)"
   ]
  }
 ],
 "metadata": {
  "kernelspec": {
   "display_name": "Python 3",
   "language": "python",
   "name": "python3"
  },
  "language_info": {
   "codemirror_mode": {
    "name": "ipython",
    "version": 3
   },
   "file_extension": ".py",
   "mimetype": "text/x-python",
   "name": "python",
   "nbconvert_exporter": "python",
   "pygments_lexer": "ipython3",
   "version": "3.8.5"
  }
 },
 "nbformat": 4,
 "nbformat_minor": 4
}
